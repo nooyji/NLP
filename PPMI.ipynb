{
 "cells": [
  {
   "cell_type": "markdown",
   "metadata": {},
   "source": [
    "Point Mutaul Information (PMI) 은 두 변수의 상관성을 측정하는 방법 중 하나입니다."
   ]
  },
  {
   "cell_type": "markdown",
   "metadata": {},
   "source": [
    "Brief review of Point Mutial Information"
   ]
  },
  {
   "cell_type": "markdown",
   "metadata": {},
   "source": [
    "확률에서 두 확률 분포가 서로 독립인가 (두 확률은 서로 상관이 없는가)의 조건은 joint probability 와 각각의 marginal probability 의 곱의 비율이 1인가 입니다. .."
   ]
  },
  {
   "cell_type": "markdown",
   "metadata": {},
   "source": [
    "## Implementing PMI with dense matrix (numpy.ndarray)"
   ]
  },
  {
   "cell_type": "markdown",
   "metadata": {},
   "source": [
    "Numpy 의 dense matrix 로 표현되는 작은 행렬을 이용하여 matrix handling 에 대하여 연습합니다.\n",
    "눈으로 값의 변화를 확인하며 행렬을 다루는 방법을 익힌 뒤, sparse matrix에 응용합니다."
   ]
  },
  {
   "cell_type": "code",
   "execution_count": 1,
   "metadata": {},
   "outputs": [],
   "source": [
    "import numpy as np\n",
    "\n",
    "x = np.array([[3, 0, 0], [0, 2, 0], [1, 0, 1], [2, 0, 1]])"
   ]
  },
  {
   "cell_type": "markdown",
   "metadata": {},
   "source": [
    "p(x) 와 p(y)를 계산합니다.\n",
    "x.sum(axis=0) 은 row sum 이며, x.sum(axis=1) 은 column sum 입니다.\n",
    "모든 columns 을 하나로 합치면 각 row 의 sum 이 계산됩니다. \n",
    "이 값을 행렬 전체의 합인 x.sum() 으로 나누면 p(x) 를 얻을 수 있습니다. "
   ]
  },
  {
   "cell_type": "code",
   "execution_count": 2,
   "metadata": {},
   "outputs": [
    {
     "name": "stdout",
     "output_type": "stream",
     "text": [
      "[0.3 0.2 0.2 0.3]\n",
      "[0.6 0.2 0.2]\n"
     ]
    }
   ],
   "source": [
    "# marginal probability\n",
    "px = x.sum(axis=1) / x.sum()\n",
    "py = x.sum(axis=0) / x.sum()\n",
    "\n",
    "print(px)\n",
    "print(py)"
   ]
  },
  {
   "cell_type": "markdown",
   "metadata": {},
   "source": [
    "p(x, y)를 계산하기 위해서는 x를 x.sum()으로 나눕니다"
   ]
  },
  {
   "cell_type": "code",
   "execution_count": 3,
   "metadata": {},
   "outputs": [
    {
     "name": "stdout",
     "output_type": "stream",
     "text": [
      "[[0.3 0.  0. ]\n",
      " [0.  0.2 0. ]\n",
      " [0.1 0.  0.1]\n",
      " [0.2 0.  0.1]]\n"
     ]
    }
   ],
   "source": [
    "# convert x to probability matrix\n",
    "pxy = x / x.sum()\n",
    "print(pxy)"
   ]
  },
  {
   "cell_type": "markdown",
   "metadata": {},
   "source": [
    "p(x, y) 를 p(x) 로 나누기 위해서는 행렬곱을 이용할 수 있습니다.\n",
    "p(x) 와 p(y)를 diagonal matrix 로 만듭니다.\n",
    "p(x) 의 i번째 값을 diagonal matrix 의 (i, i) 의 값입니다. \n",
    "이를 위해 numpy.diag 를 이용합니다.\n",
    "numpy.diag 는 array 의 값을 diagonal elements 로 지니는 diagonal matrix 를 만듭니다. "
   ]
  },
  {
   "cell_type": "code",
   "execution_count": 4,
   "metadata": {},
   "outputs": [
    {
     "data": {
      "text/plain": [
       "array([[0.3, 0. , 0. , 0. ],\n",
       "       [0. , 0.2, 0. , 0. ],\n",
       "       [0. , 0. , 0.2, 0. ],\n",
       "       [0. , 0. , 0. , 0.3]])"
      ]
     },
     "execution_count": 4,
     "metadata": {},
     "output_type": "execute_result"
    }
   ],
   "source": [
    "# diagonalize px & py for matrix multiplication\n",
    "# (4, 4) by (4, 3) by (3, 3) = (4, 3)\n",
    "np.diag(px)"
   ]
  },
  {
   "cell_type": "markdown",
   "metadata": {},
   "source": [
    "p(x) 를 곱하는 것이 아니라 나누는 것이기 때문에 역수를 취합니다. 이 때 p(x) 가 0 인 원소는 그 값을 나누지 않고 0 으로 할당합니다."
   ]
  },
  {
   "cell_type": "code",
   "execution_count": 5,
   "metadata": {},
   "outputs": [
    {
     "data": {
      "text/plain": [
       "array([[3.33333333, 0.        , 0.        , 0.        ],\n",
       "       [0.        , 5.        , 0.        , 0.        ],\n",
       "       [0.        , 0.        , 5.        , 0.        ],\n",
       "       [0.        , 0.        , 0.        , 3.33333333]])"
      ]
     },
     "execution_count": 5,
     "metadata": {},
     "output_type": "execute_result"
    }
   ],
   "source": [
    "# inverse elements if the element is greater than 0\n",
    "np.diag(np.array([0 if pxi == 0 else 1/pxi for pxi in px]))"
   ]
  },
  {
   "cell_type": "markdown",
   "metadata": {},
   "source": [
    "위 방법을 이용하여 p(x) 의 역수와 p(y)의 역수로 이뤄진 diagonal matrix 를 만듭니다. 이 때 p(y) 에 a 를 더하는 smoothing 도 할 수 있습니다. p(y)i가 0이 아닐 때 a를 더합니다."
   ]
  },
  {
   "cell_type": "code",
   "execution_count": 6,
   "metadata": {},
   "outputs": [
    {
     "name": "stdout",
     "output_type": "stream",
     "text": [
      "(4, 4)\n",
      "(3, 3)\n"
     ]
    }
   ],
   "source": [
    "# inverse element digonal matrix of px and py\n",
    "alpha = 0\n",
    "\n",
    "px_diag = np.diag(np.array([0 if pxi == 0 else 1/pxi for pxi in px]))\n",
    "py_diag = np.diag(np.array([0 if pyi == 0 else 1/(pyi + alpha) for pyi in py])) \n",
    "\n",
    "print(px_diag.shape)\n",
    "print(py_diag.shape)"
   ]
  },
  {
   "cell_type": "markdown",
   "metadata": {},
   "source": [
    "행렬 곱은 각 행렬의 .dot 함수를 이용할 수 있습니다. numpy.dot 이 호출되어 두 행렬이 곱해집니다."
   ]
  },
  {
   "cell_type": "code",
   "execution_count": 7,
   "metadata": {},
   "outputs": [
    {
     "name": "stdout",
     "output_type": "stream",
     "text": [
      "[[1.66666667 0.         0.        ]\n",
      " [0.         5.         0.        ]\n",
      " [0.83333333 0.         2.5       ]\n",
      " [1.11111111 0.         1.66666667]]\n"
     ]
    }
   ],
   "source": [
    "# logarithm is not applied yet\n",
    "exp_pmi = px_diag.dot(pxy).dot(py_diag)\n",
    "print(exp_pmi)"
   ]
  },
  {
   "cell_type": "markdown",
   "metadata": {},
   "source": [
    "우리가 행렬곱으로 계산한 결과와 손으로 직접 계산한 결과가 같은지 확인합니다. 이처럼 계산과정이 제대로 구현되었는지 값을 넣어 직접 확인하는 작업은 매우 중요합니다."
   ]
  },
  {
   "cell_type": "markdown",
   "metadata": {},
   "source": [
    "행렬곱으로 얻은 값과 손으로 계산한 값이 다르면 그 값을 출력하도록 합니다. 네 개의 값이 서로 다릅니다. 하지만 그 값 차이를 살펴보면 float truncated error 때문에 발생한 것임을 알 수 있습니다."
   ]
  },
  {
   "cell_type": "code",
   "execution_count": 8,
   "metadata": {},
   "outputs": [
    {
     "name": "stdout",
     "output_type": "stream",
     "text": [
      "(1, 1), exp_pmi = 5.0, manually = 4.999999999999999\n",
      "(2, 2), exp_pmi = 2.5, manually = 2.4999999999999996\n",
      "(3, 0), exp_pmi = 1.1111111111111114, manually = 1.1111111111111112\n",
      "(3, 2), exp_pmi = 1.666666666666667, manually = 1.6666666666666667\n"
     ]
    }
   ],
   "source": [
    "# check value\n",
    "# difference cause by truncation error\n",
    "for i in range(x.shape[0]):\n",
    "    for j in range(x.shape[1]):\n",
    "        exp_pmi_ij = exp_pmi[i,j]\n",
    "        manually_ij = pxy[i,j] / (px[i] * py[j])\n",
    "        if not (exp_pmi_ij == manually_ij):\n",
    "            print('({}, {}), exp_pmi = {}, manually = {}'.format(i, j, exp_pmi_ij, manually_ij))"
   ]
  },
  {
   "cell_type": "markdown",
   "metadata": {},
   "source": [
    "log 값을 취해야 합니다. Minimum pmi 보다 작은 경우는 제거하고, (x,y) = pmi 의 형식으로 dok_matrix 에 저장합니다. Sparse matrix 의 형식 중 하나입니다."
   ]
  },
  {
   "cell_type": "markdown",
   "metadata": {},
   "source": [
    "numpy.where 를 이용하면 해당 조건을 만족하는 rows, columns 가 return 됩니다. zip(rows, cols) 를 이용하여 각 (i, j)의 값에 접근합니다."
   ]
  },
  {
   "cell_type": "code",
   "execution_count": 11,
   "metadata": {},
   "outputs": [],
   "source": [
    "from scipy.sparse import dok_matrix\n",
    "\n",
    "# PPMI using threshold\n",
    "min_exp_pmi = 1\n",
    "\n",
    "rows, cols = np.where(exp_pmi > min_exp_pmi)\n",
    "pmi_dok = dok_matrix(exp_pmi.shape)\n",
    "\n",
    "for i, j in zip(rows, cols):\n",
    "    # apply logarithm\n",
    "    pmi_dok[i, j] = np.log(exp_pmi[i,j])"
   ]
  },
  {
   "cell_type": "code",
   "execution_count": 12,
   "metadata": {},
   "outputs": [
    {
     "name": "stdout",
     "output_type": "stream",
     "text": [
      "(0, 0) = 0.5108256237659907 (exp = 1.6666666666666667)\n",
      "(1, 1) = 1.6094379124341003 (exp = 4.999999999999999)\n",
      "(2, 2) = 0.9162907318741551 (exp = 2.5)\n",
      "(3, 0) = 0.10536051565782655 (exp = 1.1111111111111114)\n",
      "(3, 2) = 0.5108256237659908 (exp = 1.666666666666667)\n"
     ]
    }
   ],
   "source": [
    "for position, pmi_ij in pmi_dok.items():\n",
    "    print('{} = {} (exp = {})'.format(position, pmi_ij, np.exp(pmi_ij)))"
   ]
  },
  {
   "cell_type": "markdown",
   "metadata": {},
   "source": [
    "## Implementing PMI with sparse matrix (scipy.sparse)"
   ]
  },
  {
   "cell_type": "markdown",
   "metadata": {},
   "source": [
    "앞서서 logic을 확인하였으니 이를 응용하여 sparse matrix 에서의 PMI 를 계산하는 과정을 구현합니다.\n",
    "데이터는 (질문, 답변) pairs 의 단어 간의 co-occurrence matrix 입니다. 질문이 x, 답변이 y 입니다. 17k 개의 단어로 이뤄져 있습니다"
   ]
  },
  {
   "cell_type": "code",
   "execution_count": 13,
   "metadata": {},
   "outputs": [
    {
     "ename": "NameError",
     "evalue": "name 'f' is not defined",
     "output_type": "error",
     "traceback": [
      "\u001b[1;31m---------------------------------------------------------------------------\u001b[0m",
      "\u001b[1;31mNameError\u001b[0m                                 Traceback (most recent call last)",
      "\u001b[1;32m<ipython-input-13-ce210bb533b6>\u001b[0m in \u001b[0;36m<module>\u001b[1;34m\u001b[0m\n\u001b[1;32m----> 1\u001b[1;33m \u001b[0midx2vocab\u001b[0m \u001b[1;33m=\u001b[0m \u001b[1;33m[\u001b[0m\u001b[0mword\u001b[0m\u001b[1;33m.\u001b[0m\u001b[0mstrip\u001b[0m\u001b[1;33m(\u001b[0m\u001b[1;33m)\u001b[0m \u001b[1;32mfor\u001b[0m \u001b[0mword\u001b[0m \u001b[1;32min\u001b[0m \u001b[0mf\u001b[0m\u001b[1;33m]\u001b[0m\u001b[1;33m\u001b[0m\u001b[1;33m\u001b[0m\u001b[0m\n\u001b[0m\u001b[0;32m      2\u001b[0m \u001b[0mvocab2idx\u001b[0m \u001b[1;33m=\u001b[0m \u001b[1;33m{\u001b[0m\u001b[0mvocab\u001b[0m\u001b[1;33m:\u001b[0m\u001b[0midx\u001b[0m \u001b[1;32mfor\u001b[0m \u001b[0midx\u001b[0m\u001b[1;33m,\u001b[0m \u001b[0mvocab\u001b[0m \u001b[1;32min\u001b[0m \u001b[0menumerate\u001b[0m\u001b[1;33m(\u001b[0m\u001b[0midx2vocab\u001b[0m\u001b[1;33m)\u001b[0m\u001b[1;33m}\u001b[0m\u001b[1;33m\u001b[0m\u001b[1;33m\u001b[0m\u001b[0m\n\u001b[0;32m      3\u001b[0m \u001b[0mprint\u001b[0m\u001b[1;33m(\u001b[0m\u001b[0mx\u001b[0m\u001b[1;33m.\u001b[0m\u001b[0mshape\u001b[0m\u001b[1;33m)\u001b[0m\u001b[1;33m\u001b[0m\u001b[1;33m\u001b[0m\u001b[0m\n",
      "\u001b[1;31mNameError\u001b[0m: name 'f' is not defined"
     ]
    }
   ],
   "source": [
    "idx2vocab = [word.strip() for word in f]\n",
    "vocab2idx = {vocab:idx for idx, vocab in enumerate(idx2vocab)}\n",
    "print(x.shape)"
   ]
  },
  {
   "cell_type": "markdown",
   "metadata": {},
   "source": [
    "sparse matrix 에서도 sum(axis=0) 과 sum(axis=1) 은 같습니다. reshape(-1)을 이용하여 row vector 를 만듭니다."
   ]
  },
  {
   "cell_type": "code",
   "execution_count": null,
   "metadata": {},
   "outputs": [],
   "source": [
    "# convert x to probability matrix & marginal probability\n",
    "px = (x.sum(axis=1) / x.sum()).reshape(-1)\n",
    "py = (x.sum(axis=0) / x.sum()).reshape(-1)\n",
    "pxy = x/x.sum()\n",
    "\n",
    "print(px.shape)\n",
    "print(py.shape)\n",
    "print(pxy.shape)"
   ]
  },
  {
   "cell_type": "markdown",
   "metadata": {},
   "source": [
    "rows 를 list로 만든 뒤, 이를 diagonal elements로 지니는 diagonal matrix 로 만듭니다. scipy.sparse 에서도 diagonal matrix를 제공합니다."
   ]
  },
  {
   "cell_type": "code",
   "execution_count": null,
   "metadata": {},
   "outputs": [],
   "source": [
    "from scipy.sparse import diags\n",
    "\n",
    "px_diag = diags(px.tolist()[0])\n",
    "py_diag = diags(py.tolist()[0])"
   ]
  },
  {
   "cell_type": "code",
   "execution_count": null,
   "metadata": {},
   "outputs": [],
   "source": [
    "scipy.sparse.diag 의 data는 numpy.ndarray 입니다. Diagonal matrix는 대각의 원소만 저장하면 됨"
   ]
  },
  {
   "cell_type": "code",
   "execution_count": null,
   "metadata": {},
   "outputs": [],
   "source": []
  },
  {
   "cell_type": "code",
   "execution_count": null,
   "metadata": {},
   "outputs": [],
   "source": []
  },
  {
   "cell_type": "code",
   "execution_count": null,
   "metadata": {},
   "outputs": [],
   "source": []
  },
  {
   "cell_type": "code",
   "execution_count": null,
   "metadata": {},
   "outputs": [],
   "source": []
  },
  {
   "cell_type": "code",
   "execution_count": null,
   "metadata": {},
   "outputs": [],
   "source": []
  },
  {
   "cell_type": "code",
   "execution_count": null,
   "metadata": {},
   "outputs": [],
   "source": []
  },
  {
   "cell_type": "code",
   "execution_count": null,
   "metadata": {},
   "outputs": [],
   "source": []
  },
  {
   "cell_type": "code",
   "execution_count": null,
   "metadata": {},
   "outputs": [],
   "source": []
  },
  {
   "cell_type": "markdown",
   "metadata": {},
   "source": [
    "## 1"
   ]
  },
  {
   "cell_type": "code",
   "execution_count": null,
   "metadata": {},
   "outputs": [],
   "source": [
    "import numpy as np"
   ]
  },
  {
   "cell_type": "code",
   "execution_count": 21,
   "metadata": {},
   "outputs": [],
   "source": [
    "def preprocess(text):\n",
    "    text = text.lower() # 전부 소문자로\n",
    "    text = text.replace('.', ' .') # 마침표 replace\n",
    "    words = text.split(' ') # ' ' 로 split\n",
    "    word_to_id = {}\n",
    "    id_to_word = {}\n",
    "    for word in words:\n",
    "        if word not in word_to_id: # word_to_id 라는 dict에 존재하지 않으면\n",
    "            new_id = len(word_to_id) # idx 부여\n",
    "            word_to_id[word] = new_id # key 값과 value 값 정의\n",
    "            id_to_word[new_id] = word # key 값과 value 값 정의\n",
    "    corpus = np.array([word_to_id[w] for w in words]) # word_to_id 의 value 값들 행렬로 만듬\n",
    "    return corpus, word_to_id, id_to_word\n",
    "\n"
   ]
  },
  {
   "cell_type": "code",
   "execution_count": 22,
   "metadata": {},
   "outputs": [],
   "source": [
    "text = \"You say goodbye and I say hello.\"\n",
    "corpus, word_to_id, id_to_word = preprocess(text)"
   ]
  },
  {
   "cell_type": "markdown",
   "metadata": {},
   "source": [
    "##  2"
   ]
  },
  {
   "cell_type": "code",
   "execution_count": 23,
   "metadata": {},
   "outputs": [
    {
     "name": "stdout",
     "output_type": "stream",
     "text": [
      "[0 1 2 3 4 1 5 6]\n",
      "{'you': 0, 'say': 1, 'goodbye': 2, 'and': 3, 'i': 4, 'hello': 5, '.': 6}\n",
      "{0: 'you', 1: 'say', 2: 'goodbye', 3: 'and', 4: 'i', 5: 'hello', 6: '.'}\n"
     ]
    }
   ],
   "source": [
    "print(corpus)\n",
    "print(word_to_id)\n",
    "print(id_to_word)"
   ]
  },
  {
   "cell_type": "markdown",
   "metadata": {},
   "source": [
    "## 3"
   ]
  },
  {
   "cell_type": "code",
   "execution_count": 24,
   "metadata": {},
   "outputs": [],
   "source": [
    "def create_co_matrix(corpus, vocab_size, window_size=1):\n",
    "    corpus_size = len(corpus)\n",
    "    co_matrix = np.zeros((vocab_size, vocab_size), dtype=np.int32)\n",
    "    for idx, word_id in enumerate(corpus):\n",
    "        for i in range(1, window_size + 1):\n",
    "            left_idx = idx - i\n",
    "            right_idx = idx + i\n",
    "            if left_idx >= 0: # idx가 0이 아닐 때를 제외\n",
    "                left_word_id = corpus[left_idx]\n",
    "                co_matrix[word_id, left_word_id] += 1\n",
    "            if right_idx < corpus_size: # idx가 맨 끝이 아닐 때를 제외\n",
    "                right_word_id = corpus[right_idx]\n",
    "                co_matrix[word_id, right_word_id] += 1\n",
    "    return co_matrix"
   ]
  },
  {
   "cell_type": "code",
   "execution_count": 25,
   "metadata": {},
   "outputs": [
    {
     "data": {
      "text/plain": [
       "array([[0, 1, 0, 0, 0, 0, 0, 0],\n",
       "       [1, 0, 1, 0, 1, 1, 0, 0],\n",
       "       [0, 1, 0, 1, 0, 0, 0, 0],\n",
       "       [0, 0, 1, 0, 1, 0, 0, 0],\n",
       "       [0, 1, 0, 1, 0, 0, 0, 0],\n",
       "       [0, 1, 0, 0, 0, 0, 1, 0],\n",
       "       [0, 0, 0, 0, 0, 1, 0, 0],\n",
       "       [0, 0, 0, 0, 0, 0, 0, 0]])"
      ]
     },
     "execution_count": 25,
     "metadata": {},
     "output_type": "execute_result"
    }
   ],
   "source": [
    "create_co_matrix(corpus, len(corpus), 1)"
   ]
  },
  {
   "cell_type": "markdown",
   "metadata": {},
   "source": [
    "## 4"
   ]
  },
  {
   "cell_type": "markdown",
   "metadata": {},
   "source": [
    "코사인 유사도"
   ]
  },
  {
   "cell_type": "code",
   "execution_count": 26,
   "metadata": {},
   "outputs": [],
   "source": [
    "def cos_similarity(x,y, eps = 1e-8):\n",
    "    nx = x/np.sqrt(np.sum(x**2) + eps) #x의 정규화\n",
    "    ny = y/np.sqrt(np.sum(y**2) + eps) #y의 정규화\n",
    "    return np.dot(nx,ny)"
   ]
  },
  {
   "cell_type": "code",
   "execution_count": 29,
   "metadata": {},
   "outputs": [
    {
     "name": "stdout",
     "output_type": "stream",
     "text": [
      "[0 1 0 0 0 0] [0 1 0 1 0 0]\n",
      "0.7071067758832467\n"
     ]
    }
   ],
   "source": [
    "#import sys\n",
    "#sys.path.append('..')\n",
    "text = 'You say goodbye and I say hello'\n",
    "corpus, word_to_id, id_to_word = preprocess(text)\n",
    "vocab_size = len(word_to_id)\n",
    "C = create_co_matrix(corpus, vocab_size)\n",
    "c0 = C[word_to_id['you']] #'you'의 단어 벡터\n",
    "c1 = C[word_to_id['i']] #'i'의 단어 벡터\n",
    "print(c0, c1)\n",
    "print(cos_similarity(c0, c1))"
   ]
  },
  {
   "cell_type": "markdown",
   "metadata": {},
   "source": [
    "## 5"
   ]
  },
  {
   "cell_type": "code",
   "execution_count": 31,
   "metadata": {},
   "outputs": [],
   "source": [
    "def most_similar(query, word_to_id, id_to_word, word_matrix, top=5):\n",
    "#query(검색 단어) 검색\n",
    "    if query not in word_to_id:\n",
    "        print('%s(을)를 찾을 수 없습니다.' % query)\n",
    "        return\n",
    "#word_matrix(단어 벡터)안에서 query id 찾기\n",
    "    print('\\n[query] ' + query)\n",
    "    query_id = word_to_id[query]\n",
    "    query_vec = word_matrix[query_id]\n",
    "\n",
    "#단어 벡터 안 단어들을 코사인 유사도 계산\n",
    "    vocab_size = len(id_to_word)\n",
    "    similarity = np.zeros(vocab_size)\n",
    "    for i in range(vocab_size):\n",
    "        similarity[i] = cos_similarity(word_matrix[i], query_vec)\n",
    "\n",
    "#코사인 유사도를 기준으로 내림차순 출력\n",
    "    count = 0\n",
    "    for i in (-1 * similarity).argsort():\n",
    "        if id_to_word[i] == query:\n",
    "            continue\n",
    "        print(' %s : %s' % (id_to_word[i], similarity[i]))\n",
    "        count += 1\n",
    "        if count >= top:\n",
    "            return"
   ]
  },
  {
   "cell_type": "markdown",
   "metadata": {},
   "source": [
    "## 6"
   ]
  },
  {
   "cell_type": "markdown",
   "metadata": {},
   "source": [
    "단어 앞뒤에 무엇이 있는가에 대해 벡터간 유사도를 판단한 것이라, 정확히 단어의 본질을 파악한 것이 아니라 생긴 문제"
   ]
  },
  {
   "cell_type": "code",
   "execution_count": 32,
   "metadata": {},
   "outputs": [
    {
     "name": "stdout",
     "output_type": "stream",
     "text": [
      "\n",
      "[query] you\n",
      " goodbye : 0.7071067758832467\n",
      " i : 0.7071067758832467\n",
      " hello : 0.7071067758832467\n",
      " say : 0.0\n",
      " and : 0.0\n"
     ]
    }
   ],
   "source": [
    "text = 'You say goodbye and I say hello.'\n",
    "corpus, word_to_id, id_to_word = preprocess(text)\n",
    "vocab_size = len(word_to_id)\n",
    "C = create_co_matrix(corpus, vocab_size)\n",
    "\n",
    "most_similar('you', word_to_id, id_to_word, C, top=5)"
   ]
  },
  {
   "cell_type": "markdown",
   "metadata": {},
   "source": [
    "[통계 기반 기법 개선]\n",
    "\n",
    "앞의 통계 기반 기법은, 인접한 단어가 얼마나 많은가에 대한 유사도를 사용하는 것인데,\n",
    "발생 횟수라는 것은 그리 좋은 '특징'이 아니다.\n",
    "the car 이라는 단어는,\n",
    "the 와 car 의 단어가 언어 문법상 동시 발생 빈도가 높은데,\n",
    "the 와 car 의 유사도가, drive와 같은, 정말 car 와 입접한 단어보다 높다.\n",
    "\n",
    "하지만 the 는 car 가 아님\n",
    "\n",
    "이를 해결하기 위해 사용하는 척도가 있다.\n",
    "'점별 상호정보량 (Pointwise Mutual Information : PMI)\n",
    "\n",
    "(상호 정보량)\n",
    "PMI 수식 : 확률변수 x와 y에 대한 PMI\n",
    "PMI(x, y) = log2 P(x,y)/P(x)P(y)\n",
    ": P(x)는 x가 일어날 확률, P(y)는 y가 일어날 확률, P(x,y) 는 x와 y가 동시에 발생할 확률을 말합니다.\n",
    "PMI가 높을수록 두 확률변수의 관련성이 높다는 의미 \n",
    "\n",
    "앞의 자연어 예에 적용하면, P(x) 는 단어 x가 말뭉치에 등장할 확률, P(y) 는 단어 y가 등장할 확률\n",
    "위의 수식을 사용한다면 말뭉치가 적더라도, 제법 제대로된 유사도를 추출할 수 있을 것.\n",
    "\n",
    "또한 단순히 단어 주변의 단어의 발생 빈도만을 파악하는 유사도 방식보다는, 총 발생 빈도에 대해 같이 사용된 빈도에 대한 비율로\n",
    "유사도를 파악하기에, the 와 같이 단순히 발생 빈도가 높은 것에 유사도를 높이는 것이 아니고,\n",
    "빈도는 낮아도, 같이 사용될 일이 많은 단어끼리 유사도를 높일 수 있음\n",
    "\n",
    "PMI 개선 : 만약 두 단어 사이에 동시 발생 횟수가 0 이면 log2 0 이 되버리므로\n",
    "'양의 상호정보량 (Positive PMI: PPMI)' 를 사용함\n",
    "\n",
    "PPMI(x,y) = max(0, PMI(x,y))\n",
    "\n",
    "max 함수를 사용하면, 둘 사이에 큰 값을 가져오게 되기에, 만약 PMI 가 -infinity 가 되면 0 이 되는 것"
   ]
  },
  {
   "cell_type": "markdown",
   "metadata": {},
   "source": [
    "## 7"
   ]
  },
  {
   "cell_type": "markdown",
   "metadata": {},
   "source": [
    "verbose 는 진행상황 출력 여부, eps "
   ]
  },
  {
   "cell_type": "code",
   "execution_count": 33,
   "metadata": {},
   "outputs": [],
   "source": [
    "def ppmi(C, verbose = False, eps = 1e-8):\n",
    "    M = np.zeros_like(C, dtype=np.float32)\n",
    "    N = np.sum(C)\n",
    "    S = np.sum(C, axis=0)\n",
    "    total = C.shape[0] * C.shape[1]\n",
    "    cnt = 0\n",
    "    for i in range(C.shape[0]):\n",
    "        for j in range(C.shape[1]):\n",
    "            pmi = np.log2(C[i,j]*N/(S[j]*S[i])+eps)\n",
    "            M[i,j] = max(0,pmi)\n",
    "            if verbose:\n",
    "                cnt += 1\n",
    "                if cnt %(total//100) == 0:\n",
    "                    print('%.1f%% 완료' % (100*cnt/total))\n",
    "    return M"
   ]
  },
  {
   "cell_type": "markdown",
   "metadata": {},
   "source": [
    "## 8 "
   ]
  },
  {
   "cell_type": "code",
   "execution_count": 34,
   "metadata": {},
   "outputs": [
    {
     "name": "stdout",
     "output_type": "stream",
     "text": [
      "동시발생 행렬\n",
      "[[0 1 0 0 0 0]\n",
      " [1 0 1 0 1 1]\n",
      " [0 1 0 1 0 0]\n",
      " [0 0 1 0 1 0]\n",
      " [0 1 0 1 0 0]\n",
      " [0 1 0 0 0 0]]\n",
      "--------------------------------------------------\n",
      "PPMI\n",
      "[[0.    1.585 0.    0.    0.    0.   ]\n",
      " [1.585 0.    0.585 0.    0.585 1.585]\n",
      " [0.    0.585 0.    1.585 0.    0.   ]\n",
      " [0.    0.    1.585 0.    1.585 0.   ]\n",
      " [0.    0.585 0.    1.585 0.    0.   ]\n",
      " [0.    1.585 0.    0.    0.    0.   ]]\n"
     ]
    }
   ],
   "source": [
    "import numpy as np\n",
    "\n",
    "text = 'You say goodbye and I say hello'\n",
    "corpus, word_to_id, id_to_word = preprocess(text)\n",
    "vocab_size = len(word_to_id)\n",
    "C = create_co_matrix(corpus, vocab_size)\n",
    "W = ppmi(C)\n",
    "np.set_printoptions(precision=3) # 유효 자릿수를 세자리로 표시\n",
    "print('동시발생 행렬')\n",
    "print(C)\n",
    "print('-'*50)\n",
    "print('PPMI')\n",
    "print(W)"
   ]
  },
  {
   "cell_type": "markdown",
   "metadata": {},
   "source": [
    "하지만 위와 같은 PPMI도 문제가 있음\n",
    "바로 메모리 문제\n",
    "말뭉치의 어휘 수에 따라 벡터의 차원수가 증가한다\n",
    "말뭉치가 커질수록 현실적으로 벡터를 저장한 메모리가 필요해진다\n",
    "\n",
    "또한 낭비되는 정보가 많은데, 근처 두 단어만 서로 비교하고, 나머지는 모두 0 인데, 의미있는 유사점 외에는 대다수가 0으로, 의미가 없는 정보\n",
    "\n",
    "자연어 처리만이 아니라, 데이터에서 정보를 파악하는 데이터 사이언스 분야에서, 이러한 의미없는 정보를 줄이고 데이터에서 중요한 정보를 추출해내 사용하는 방식은 널리 쓰임.\n",
    "\n",
    "'벡터의 차원감소'"
   ]
  },
  {
   "cell_type": "code",
   "execution_count": null,
   "metadata": {},
   "outputs": [],
   "source": []
  }
 ],
 "metadata": {
  "kernelspec": {
   "display_name": "py36",
   "language": "python",
   "name": "py36"
  },
  "language_info": {
   "codemirror_mode": {
    "name": "ipython",
    "version": 3
   },
   "file_extension": ".py",
   "mimetype": "text/x-python",
   "name": "python",
   "nbconvert_exporter": "python",
   "pygments_lexer": "ipython3",
   "version": "3.6.10"
  }
 },
 "nbformat": 4,
 "nbformat_minor": 4
}
