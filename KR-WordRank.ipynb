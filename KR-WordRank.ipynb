{
 "cells": [
  {
   "cell_type": "markdown",
   "metadata": {},
   "source": [
    "## Keyword extraction"
   ]
  },
  {
   "cell_type": "markdown",
   "metadata": {},
   "source": [
    "Substring graph를 만들기 위하여 substring의 최소 등장 빈도수 (min count)와 substring의 최대 길이 (max length)를 입력해야 합니다."
   ]
  },
  {
   "cell_type": "code",
   "execution_count": 2,
   "metadata": {},
   "outputs": [],
   "source": [
    "from krwordrank.word import KRWordRank"
   ]
  },
  {
   "cell_type": "code",
   "execution_count": 31,
   "metadata": {},
   "outputs": [],
   "source": [
    "min_count = 5 # 단어의 최소 출현 빈도수 (그래프 생성 시)\n",
    "max_length = 10 # 단어의 최대 길이\n",
    "wordrank_extractor = KRWordRank(min_count=min_count, max_length=max_length)"
   ]
  },
  {
   "cell_type": "markdown",
   "metadata": {},
   "source": [
    "KR-WordRank 는 PageRank 와 비슷한 graph ranking 알고리즘을 이용하여 단어를 추출합니다. (HITS algorithm 을 이용합니다)\n",
    "Substring graph 에서 node(substring) 랭킹을 계산하기 위하여 graph ranking 알고리즘의 parameters 가 입력되야 합니다."
   ]
  },
  {
   "cell_type": "code",
   "execution_count": 32,
   "metadata": {},
   "outputs": [],
   "source": [
    "beta = 0.85 # PageRank 의 decaying factor beta\n",
    "max_iter = 10\n",
    "texts = ['여운이 크게남는영화 엠마스톤 너무 사랑스럽고 라이언고슬링 남자가봐도 정말 매력적인 배우인듯 영상미 음악 연기 구성 전부 좋았고 마지막 엔딩까지 신선하면서 애틋하구요 30중반에 감정이 많이 메말라있었는데 오랜만에 가슴이 촉촉해지네요',\n",
    " '영상미도 너무 아름답고 신나는 음악도 좋았다 마지막 세바스찬과 미아의 눈빛교환은 정말 마음 아팠음 영화관에 고딩들이 엄청 많던데 고딩들은 영화 내용 이해를 못하더라ㅡㅡ사랑을 깊게 해본 사람이라면 누구나 느껴볼수있는 먹먹함이 있다',\n",
    " '정말 영상미랑 음악은 최고였다 그리고 신선했다 음악이 너무 멋있어서 연기를 봐야 할지 노래를 들어야 할지 모를 정도로 그리고 보고 나서 생각 좀 많아진 영화 정말 이 연말에 보기 좋은 영화 인 것 같다',\n",
    " '무언의 마지막 피아노연주 완전 슬픔ㅠ보는이들에게 꿈을 상기시켜줄듯 또 보고 싶은 내생에 최고의 뮤지컬영화였음 단순할수 있는 내용에 뮤지컬을 가미시켜째즈음악과 춤으로 지루할틈없이 빠져서봄 ost너무좋았음',\n",
    " '처음엔 초딩들 보는 그냥 그런영화인줄 알았는데 정말로 눈과 귀가 즐거운 영화였습니다 어찌보면 뻔한 스토리일지 몰라도 그냥 보고 듣는게 즐거운 그러다가 정말 마지막엔 너무 아름답고 슬픈 음악이 되어버린',\n",
    " '정말 멋진 노래와 음악과 영상미까지 정말 너무 멋있는 영화 눈물을 흘리면서 봤습니다 영화가 끝난 순간 감탄과 동시에 여운이 길게 남아 또 눈물을 흘렸던내 인생 최고의 뮤지컬 영화',\n",
    " '평소 뮤지컬 영화 좋아하는 편인데도 평점에 비해 너무나 별로였던 영화 재즈음악이나 영상미 같은 건 좋았지만 줄거리도 글쎄 결말은 정말 별로 6 7점 정도 주는게 맞다고 생각하지만 개인적으로 후반부가 너무 별로여서',\n",
    " '오랜만에 좋은 영화봤다는 생각들었구요 음악도 영상도 스토리도 너무나좋았고 무엇보다 진한 여운이 남는 영화는 정말 오랜만이었어요 연인끼리 가서 보기 정말 좋은영화 너뮤너뮤너뮤 재밌게 잘 봤습니다',\n",
    " '음악 미술 연기 등 모든 것이 좋았지만 마지막 결말이 너무 현실에 뒤떨어진 꿈만 같다 꿈을 이야기하는 영화지만 과정과 결과에 있어 예술가들의 현실을 너무 반영하지 못한 것이 아닌가하는 생각이든다 그래서 보고 난 뒤 나는 꿈을 꿔야하는데 허탈했다',\n",
    " '마지막 회상씬의 감동이 잊혀지질않는다마지막 십분만으로 티켓값이 아깝지않은 영화 음악들도 너무 아름다웠다옛날 뮤지컬 같은 빈티지영상미도 최고']\n",
    "keywords, rank, graph = wordrank_extractor.extract(texts, beta, max_iter)"
   ]
  },
  {
   "cell_type": "code",
   "execution_count": 33,
   "metadata": {
    "scrolled": true
   },
   "outputs": [
    {
     "data": {
      "text/plain": [
       "{'정말': 3.0219298290763215,\n",
       " '음악': 1.7655568222748133,\n",
       " '영화': 1.620075889675046,\n",
       " '너무': 1.5707118757325076,\n",
       " '마지막': 1.3069790639430323,\n",
       " '뮤지컬': 0.8112726140120451,\n",
       " '영상미': 0.6403279551506307}"
      ]
     },
     "execution_count": 33,
     "metadata": {},
     "output_type": "execute_result"
    }
   ],
   "source": [
    "keywords"
   ]
  },
  {
   "cell_type": "markdown",
   "metadata": {},
   "source": [
    "Graph ranking 이 높은 노드들(substrings)이 후처리 과정을 거쳐 단어로 출력됩니다.\n",
    "영화 '라라랜드'의 영화 평 데이터에서 키워드 (단어) 추출을 한 결과 예시가 tutorials 에 있습니다."
   ]
  },
  {
   "cell_type": "code",
   "execution_count": 8,
   "metadata": {},
   "outputs": [
    {
     "name": "stdout",
     "output_type": "stream",
     "text": [
      "      정말:\t3.0219\n",
      "      음악:\t1.7656\n",
      "      영화:\t1.6201\n",
      "      너무:\t1.5707\n",
      "     마지막:\t1.3070\n",
      "     뮤지컬:\t0.8113\n",
      "     영상미:\t0.6403\n"
     ]
    }
   ],
   "source": [
    "for word, r in sorted(keywords.items(), key=lambda x:x[1], reverse=True)[:30]:\n",
    "    print('%8s:\\t%.4f' % (word, r))"
   ]
  },
  {
   "cell_type": "markdown",
   "metadata": {},
   "source": [
    "Python 의 wordcloud package 를 이용하면 키워드에 관한 word cloud figure 를 그릴 수 있습니다.\n",
    "\n",
    "Figure 에 나타내지 않을 일반적인 단어 (stopwords) 를 제거하여 passwords 를 만듭니다.\n",
    "dict 형식으로 (단어:점수) 형식이어야 합니다."
   ]
  },
  {
   "cell_type": "code",
   "execution_count": 34,
   "metadata": {},
   "outputs": [],
   "source": [
    "stopwords = {'정말', '영화', '너무'}\n",
    "passwords = {word:score for word, score in sorted(\n",
    "    keywords.items(), key=lambda x:-x[1])[:300] if not (word in stopwords)}"
   ]
  },
  {
   "cell_type": "code",
   "execution_count": 35,
   "metadata": {},
   "outputs": [
    {
     "data": {
      "text/plain": [
       "{'음악': 1.7655568222748133,\n",
       " '마지막': 1.3069790639430323,\n",
       " '뮤지컬': 0.8112726140120451,\n",
       " '영상미': 0.6403279551506307}"
      ]
     },
     "execution_count": 35,
     "metadata": {},
     "output_type": "execute_result"
    }
   ],
   "source": [
    "passwords"
   ]
  },
  {
   "cell_type": "markdown",
   "metadata": {},
   "source": [
    "혹은 위의 과정을 간단히 summarize_with_keywords 함수로 진행할 수도 있습니다."
   ]
  },
  {
   "cell_type": "code",
   "execution_count": 38,
   "metadata": {},
   "outputs": [
    {
     "name": "stdout",
     "output_type": "stream",
     "text": [
      "scan vocabs ... \n",
      "num vocabs = 41\n",
      "done = 10\n"
     ]
    }
   ],
   "source": [
    "from krwordrank.word import summarize_with_keywords\n",
    "\n",
    "keywords = summarize_with_keywords(texts, min_count=5, max_length=10,\n",
    "                                   beta=0.85, max_iter=10, stopwords=stopwords, verbose=True)\n",
    "#keywords = summarize_with_keywords(texts) # with default arguments"
   ]
  },
  {
   "cell_type": "code",
   "execution_count": 39,
   "metadata": {},
   "outputs": [
    {
     "data": {
      "text/plain": [
       "{'음악': 1.7655568222748133,\n",
       " '마지막': 1.3069790639430323,\n",
       " '뮤지컬': 0.8112726140120451,\n",
       " '영상미': 0.6403279551506307}"
      ]
     },
     "execution_count": 39,
     "metadata": {},
     "output_type": "execute_result"
    }
   ],
   "source": [
    "keywords"
   ]
  },
  {
   "cell_type": "markdown",
   "metadata": {},
   "source": [
    "## Key-sentence extraction"
   ]
  },
  {
   "cell_type": "markdown",
   "metadata": {},
   "source": [
    "KR-WordRank > = 1.0.0 부터는 key sentence extraction 을 제공합니다.\n",
    "KR-WordRank 는 한국어의 토크나이저 기능이 내제되어 있기 때문에 \n",
    "토크나이징이 된 문장 간 유사도를 이용하는 TextRank 방식을 이용하기 어렵습니다.\n",
    "대신 KR-WordRank 에서는 keywords 를 많이 포함한 문장을 핵심 문장으로 선택합니다.\n",
    "문장을 추출하는 원리는 추출된 키워드의 랭크값을 이용하여 키워드 벡터를 만든 뒤,\n",
    "cosine 유사도 기준으로 입력된 문장 벡터가 키워드 벡터와 유사한 문장을 선택하는 것입니다.\n",
    "\n",
    "summarize_with_sentences 함수에 texts 를 입력하면 KR-WordRank 를 학습하여 키워드와 이를 이용한 핵심 문장을 선택합니다."
   ]
  },
  {
   "cell_type": "markdown",
   "metadata": {},
   "source": [
    "Key-sentences extraction in KR-WordRank\n",
    "TextRank 와 KR-WordRank 는 keyword extraction 기능과 key-sentence extraction 기능을 모두 제공합니다.\n",
    "단, TextRank 는 잘 구축된 토크나이저가 필요합니다.\n",
    "만약 미등록단어 문제가 발생할 경우에는 해당 단어가 키워드로 추출되지 않습니다.\n",
    "KR-WordRank 는 이러한 문제를 해결하기 위하여 제안된 방법으로, 한국어 텍스트에서 데이터 기반으로 단어를 추출함과 동시에 해당 문장 집합을 잘 설명할 수 있는 키워드를 추출합니다.\n",
    "\n",
    "KR-WordRank 가 핵심 문장을 추출하는 원리는 아래와 같습니다.\n",
    "KR-WordRank 가 추출한 키워드들의 ranks 를 이용하여 keyword vector 를 만듭니다.\n",
    "그리고 문장에서 키워드 점수를 단어 점수로 이용하여 soynlp 의 MaxScoreTokenizer 를 이용하여 문장을 토크나이징 합니다.\n",
    "즉 데이터 기반으로 단어를 추출하고, 이를 이용하여 토크나이징을 하는 개념입니다.\n",
    "모든 문장들을 키워드의 포함 유무를 표현하는 Boolean vector 로 만든 뒤, keyword vector 와의 거리를 계산합니다.\n",
    "거리가 가까운 문장은 키워드들을 많이 포함하고 있는 문장입니다. 이를 핵심 문장으로 선택합니다.\n",
    "\n",
    "단, 이 방법은 비슷한 문장들을 핵심 문장으로 선택할 가능성이 있습니다. 그렇기 때문에 처음 한 문장은 keyword vector 와의 거리가 가장 짧은 문장을 선택합니다. 그 뒤 선택된 문장과 나머지 모든 문장간의 cosine 거리를 계산하고, 그 거리가 사용자가 지정한 임계값(threshold, argument name = diversity) 보다 작은 경우에는 모두 2를 더합니다. 2 는 cosine 거리가 가질 수 있는 최대값이기 때문입니다.\n",
    "그 뒤, 다시 한 번 거리의 누적값이 가장 작은 문장을 선택하며, 이를 문장 갯수만큼 반복합니다."
   ]
  },
  {
   "cell_type": "code",
   "execution_count": 43,
   "metadata": {},
   "outputs": [],
   "source": [
    "from krwordrank.sentence import summarize_with_sentences\n",
    "\n",
    "texts = ['여운이 크게남는영화 엠마스톤 너무 사랑스럽고 라이언고슬링 남자가봐도 정말 매력적인 배우인듯 영상미 음악 연기 구성 전부 좋았고 마지막 엔딩까지 신선하면서 애틋하구요 30중반에 감정이 많이 메말라있었는데 오랜만에 가슴이 촉촉해지네요',\n",
    " '영상미도 너무 아름답고 신나는 음악도 좋았다 마지막 세바스찬과 미아의 눈빛교환은 정말 마음 아팠음 영화관에 고딩들이 엄청 많던데 고딩들은 영화 내용 이해를 못하더라ㅡㅡ사랑을 깊게 해본 사람이라면 누구나 느껴볼수있는 먹먹함이 있다',\n",
    " '정말 영상미랑 음악은 최고였다 그리고 신선했다 음악이 너무 멋있어서 연기를 봐야 할지 노래를 들어야 할지 모를 정도로 그리고 보고 나서 생각 좀 많아진 영화 정말 이 연말에 보기 좋은 영화 인 것 같다',\n",
    " '무언의 마지막 피아노연주 완전 슬픔ㅠ보는이들에게 꿈을 상기시켜줄듯 또 보고 싶은 내생에 최고의 뮤지컬영화였음 단순할수 있는 내용에 뮤지컬을 가미시켜째즈음악과 춤으로 지루할틈없이 빠져서봄 ost너무좋았음',\n",
    " '처음엔 초딩들 보는 그냥 그런영화인줄 알았는데 정말로 눈과 귀가 즐거운 영화였습니다 어찌보면 뻔한 스토리일지 몰라도 그냥 보고 듣는게 즐거운 그러다가 정말 마지막엔 너무 아름답고 슬픈 음악이 되어버린',\n",
    " '정말 멋진 노래와 음악과 영상미까지 정말 너무 멋있는 영화 눈물을 흘리면서 봤습니다 영화가 끝난 순간 감탄과 동시에 여운이 길게 남아 또 눈물을 흘렸던내 인생 최고의 뮤지컬 영화',\n",
    " '평소 뮤지컬 영화 좋아하는 편인데도 평점에 비해 너무나 별로였던 영화 재즈음악이나 영상미 같은 건 좋았지만 줄거리도 글쎄 결말은 정말 별로 6 7점 정도 주는게 맞다고 생각하지만 개인적으로 후반부가 너무 별로여서',\n",
    " '오랜만에 좋은 영화봤다는 생각들었구요 음악도 영상도 스토리도 너무나좋았고 무엇보다 진한 여운이 남는 영화는 정말 오랜만이었어요 연인끼리 가서 보기 정말 좋은영화 너뮤너뮤너뮤 재밌게 잘 봤습니다',\n",
    " '음악 미술 연기 등 모든 것이 좋았지만 마지막 결말이 너무 현실에 뒤떨어진 꿈만 같다 꿈을 이야기하는 영화지만 과정과 결과에 있어 예술가들의 현실을 너무 반영하지 못한 것이 아닌가하는 생각이든다 그래서 보고 난 뒤 나는 꿈을 꿔야하는데 허탈했다',\n",
    " '마지막 회상씬의 감동이 잊혀지질않는다마지막 십분만으로 티켓값이 아깝지않은 영화 음악들도 너무 아름다웠다옛날 뮤지컬 같은 빈티지영상미도 최고']\n",
    "keywords, sents = summarize_with_sentences(texts, num_keywords=100, num_keysents=5)"
   ]
  },
  {
   "cell_type": "markdown",
   "metadata": {},
   "source": [
    "keywords 에는 KR-WordRank 로부터 학습된 num_keywords 개수의 키워드와 이들의 랭크 값이 dict{str:float} 형식으로 저장되어 있습니다."
   ]
  },
  {
   "cell_type": "code",
   "execution_count": 44,
   "metadata": {},
   "outputs": [
    {
     "data": {
      "text/plain": [
       "{'정말': 3.0219298290763215,\n",
       " '음악': 1.7655568222748133,\n",
       " '영화': 1.620075889675046,\n",
       " '너무': 1.5707118757325076,\n",
       " '마지막': 1.3069790639430323,\n",
       " '뮤지컬': 0.8112726140120451,\n",
       " '영상미': 0.6403279551506307}"
      ]
     },
     "execution_count": 44,
     "metadata": {},
     "output_type": "execute_result"
    }
   ],
   "source": [
    "keywords"
   ]
  },
  {
   "cell_type": "code",
   "execution_count": 45,
   "metadata": {},
   "outputs": [
    {
     "data": {
      "text/plain": [
       "['여운이 크게남는영화 엠마스톤 너무 사랑스럽고 라이언고슬링 남자가봐도 정말 매력적인 배우인듯 영상미 음악 연기 구성 전부 좋았고 마지막 엔딩까지 신선하면서 애틋하구요 30중반에 감정이 많이 메말라있었는데 오랜만에 가슴이 촉촉해지네요',\n",
       " '영상미도 너무 아름답고 신나는 음악도 좋았다 마지막 세바스찬과 미아의 눈빛교환은 정말 마음 아팠음 영화관에 고딩들이 엄청 많던데 고딩들은 영화 내용 이해를 못하더라ㅡㅡ사랑을 깊게 해본 사람이라면 누구나 느껴볼수있는 먹먹함이 있다',\n",
       " '처음엔 초딩들 보는 그냥 그런영화인줄 알았는데 정말로 눈과 귀가 즐거운 영화였습니다 어찌보면 뻔한 스토리일지 몰라도 그냥 보고 듣는게 즐거운 그러다가 정말 마지막엔 너무 아름답고 슬픈 음악이 되어버린',\n",
       " '정말 멋진 노래와 음악과 영상미까지 정말 너무 멋있는 영화 눈물을 흘리면서 봤습니다 영화가 끝난 순간 감탄과 동시에 여운이 길게 남아 또 눈물을 흘렸던내 인생 최고의 뮤지컬 영화',\n",
       " '음악 미술 연기 등 모든 것이 좋았지만 마지막 결말이 너무 현실에 뒤떨어진 꿈만 같다 꿈을 이야기하는 영화지만 과정과 결과에 있어 예술가들의 현실을 너무 반영하지 못한 것이 아닌가하는 생각이든다 그래서 보고 난 뒤 나는 꿈을 꿔야하는데 허탈했다']"
      ]
     },
     "execution_count": 45,
     "metadata": {},
     "output_type": "execute_result"
    }
   ],
   "source": [
    "sents"
   ]
  },
  {
   "cell_type": "markdown",
   "metadata": {},
   "source": [
    "몇 가지 파라미터를 추가할 수 있습니다. 길이가 지나치게 길거나 짧은 문장을 제거하기 위해 penalty 함수를 정의합니다.\n",
    "아래는 길이가 25 글자부터 80 글자인 문장을 선호한다는 의미입니다.\n",
    "stopwords 는 키워드에서 제거합니다.\n",
    "이들은 키워드벡터를 만들 때에도 이용되지 않습니다.\n",
    "또한 키워드 벡터와 유사한 문장을 우선적으로 선택하다보면 이전에 선택된 문장과 중복되는 문장들이 선택되기도 합니다.\n",
    "이는 diversity 를 이용하여 조절할 수 있습니다.\n",
    "diversity 는 cosine 유사도 기준 핵심문장 간의 최소 거리 입니다.\n",
    "이 값이 클수록 다양한 문장이 선택됩니다."
   ]
  },
  {
   "cell_type": "code",
   "execution_count": 49,
   "metadata": {},
   "outputs": [],
   "source": [
    "penalty = lambda x:0 if (25 <= len(x) <= 80) else 1\n",
    "stopwords = {'영화', '관람객', '너무', '정말', '진짜'}\n",
    "\n",
    "keywords, sents = summarize_with_sentences(\n",
    "texts,\n",
    "penalty=penalty,\n",
    "stopwords=stopwords,\n",
    "diversity=0.5,\n",
    "num_keywords=100,\n",
    "num_keysents=1,\n",
    "verbose=False)"
   ]
  },
  {
   "cell_type": "code",
   "execution_count": 50,
   "metadata": {},
   "outputs": [
    {
     "data": {
      "text/plain": [
       "{'음악': 1.7655568222748133,\n",
       " '마지막': 1.3069790639430323,\n",
       " '뮤지컬': 0.8112726140120451,\n",
       " '영상미': 0.6403279551506307}"
      ]
     },
     "execution_count": 50,
     "metadata": {},
     "output_type": "execute_result"
    }
   ],
   "source": [
    "keywords"
   ]
  },
  {
   "cell_type": "code",
   "execution_count": 51,
   "metadata": {},
   "outputs": [
    {
     "data": {
      "text/plain": [
       "['마지막 회상씬의 감동이 잊혀지질않는다마지막 십분만으로 티켓값이 아깝지않은 영화 음악들도 너무 아름다웠다옛날 뮤지컬 같은 빈티지영상미도 최고']"
      ]
     },
     "execution_count": 51,
     "metadata": {},
     "output_type": "execute_result"
    }
   ],
   "source": [
    "sents"
   ]
  },
  {
   "cell_type": "markdown",
   "metadata": {},
   "source": [
    "만약 마지막 이라는 단어가 포함된 문장도 핵심 문장에서 제거하고 싶다면 아래처럼 penalty 함수를 변경할 수 있습니다."
   ]
  },
  {
   "cell_type": "code",
   "execution_count": null,
   "metadata": {},
   "outputs": [],
   "source": [
    "penalty = lambda x:0 if (25 <= len(x) <= 80 and not '마지막' in x) else 1,\n",
    "keywords, sents = summarize_with_sentences(\n",
    "texts,\n",
    "penalty=penalty,\n",
    "stopwords=stopwords,\n",
    "diversity=0.5,\n",
    "num_keywords=100,\n",
    "num_keysents=1,\n",
    "verbose=False)"
   ]
  }
 ],
 "metadata": {
  "kernelspec": {
   "display_name": "py36",
   "language": "python",
   "name": "py36"
  },
  "language_info": {
   "codemirror_mode": {
    "name": "ipython",
    "version": 3
   },
   "file_extension": ".py",
   "mimetype": "text/x-python",
   "name": "python",
   "nbconvert_exporter": "python",
   "pygments_lexer": "ipython3",
   "version": "3.6.10"
  }
 },
 "nbformat": 4,
 "nbformat_minor": 4
}
